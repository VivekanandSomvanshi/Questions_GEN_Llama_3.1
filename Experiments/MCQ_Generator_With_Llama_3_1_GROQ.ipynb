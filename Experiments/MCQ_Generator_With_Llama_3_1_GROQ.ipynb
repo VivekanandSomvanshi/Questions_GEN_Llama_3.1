{
  "cells": [
    {
      "cell_type": "code",
      "execution_count": 1,
      "metadata": {
        "id": "fvp3o2R5yasW"
      },
      "outputs": [],
      "source": [
        "import os\n",
        "\n",
        "from groq import Groq\n",
        "\n",
        "from langchain.chains import LLMChain\n",
        "from langchain_core.prompts import ChatPromptTemplate, HumanMessagePromptTemplate, MessagesPlaceholder\n",
        "from langchain_core.messages import SystemMessage\n",
        "from langchain.chains.conversation.memory import ConversationBufferWindowMemory\n",
        "from langchain_groq import ChatGroq\n",
        "from langchain.prompts import PromptTemplate\n",
        "\n",
        "from langchain.agents import AgentType\n",
        "from langchain.agents import load_tools\n",
        "from langchain.agents import initialize_agent\n",
        "from langchain.chains import SequentialChain\n",
        "import json\n",
        "\n",
        "from datetime import datetime, timedelta\n",
        "from langchain.schema import HumanMessage, AIMessage, ChatMessage\n",
        "from langchain_core.tools import tool\n",
        "from langchain_core.pydantic_v1 import BaseModel, Field\n",
        "from langchain.memory import ConversationBufferMemory\n",
        "from langchain.chains import ConversationChain\n",
        "\n",
        "\n",
        "from langchain.prompts import PromptTemplate\n",
        "from langchain.chains import LLMChain\n",
        "from langchain.chains import SequentialChain\n",
        "from langchain.callbacks import get_openai_callback\n",
        "\n",
        "import pandas as pd\n",
        "import traceback\n",
        "from langchain.document_loaders import PyPDFLoader\n",
        "import pypdf\n",
        "from PyPDF2 import PdfReader\n",
        "from dotenv import load_dotenv"
      ]
    },
    {
      "cell_type": "code",
      "execution_count": 2,
      "metadata": {},
      "outputs": [
        {
          "data": {
            "text/plain": [
              "True"
            ]
          },
          "execution_count": 2,
          "metadata": {},
          "output_type": "execute_result"
        }
      ],
      "source": [
        "load_dotenv()"
      ]
    },
    {
      "cell_type": "code",
      "execution_count": 3,
      "metadata": {},
      "outputs": [],
      "source": [
        "KEY = os.getenv('GROQ_API_KEY')"
      ]
    },
    {
      "cell_type": "code",
      "execution_count": 4,
      "metadata": {
        "id": "wIt3LKe9zfch"
      },
      "outputs": [],
      "source": [
        "# model=\"llama-3.1-70b-versatile\"\n",
        "groq_api_key = KEY  # Replace with your Groq API key  model=\"llama-3.1-8b-instant\"  model=\"llama-3.1-8b-instant\"  llama3-70b-8192\n",
        "model = \"llama3-70b-8192\"\n",
        "groq_chat = ChatGroq(groq_api_key=groq_api_key, model_name=model,temperature=0.5)"
      ]
    },
    {
      "cell_type": "code",
      "execution_count": 5,
      "metadata": {
        "id": "mnA4OPfn1cxo"
      },
      "outputs": [],
      "source": [
        "RESPONSE_JSON = {\n",
        "    \"1\": {\n",
        "        \"mcq\": \"multiple choice question\",\n",
        "        \"options\": {\n",
        "            \"a\": \"choice here\",\n",
        "            \"b\": \"choice here\",\n",
        "            \"c\": \"choice here\",\n",
        "            \"d\": \"choice here\",\n",
        "        },\n",
        "        \"correct\": \"correct answer\",\n",
        "    },\n",
        "    \"2\": {\n",
        "        \"mcq\": \"multiple choice question\",\n",
        "        \"options\": {\n",
        "            \"a\": \"choice here\",\n",
        "            \"b\": \"choice here\",\n",
        "            \"c\": \"choice here\",\n",
        "            \"d\": \"choice here\",\n",
        "        },\n",
        "        \"correct\": \"correct answer\",\n",
        "    },\n",
        "    \"3\": {\n",
        "        \"mcq\": \"multiple choice question\",\n",
        "        \"options\": {\n",
        "            \"a\": \"choice here\",\n",
        "            \"b\": \"choice here\",\n",
        "            \"c\": \"choice here\",\n",
        "            \"d\": \"choice here\",\n",
        "        },\n",
        "        \"correct\": \"correct answer\",\n",
        "    },\n",
        "}"
      ]
    },
    {
      "cell_type": "code",
      "execution_count": 6,
      "metadata": {
        "colab": {
          "base_uri": "https://localhost:8080/",
          "height": 36
        },
        "id": "FHp4sSsJ2inK",
        "outputId": "3718a096-529d-416b-d691-c7da1c9b57a0"
      },
      "outputs": [
        {
          "data": {
            "text/plain": [
              "'\\nnumber=5\\nsubject=\"Data Science And Machine Learning\"\\ntone=\"Medium\"\\n'"
            ]
          },
          "execution_count": 6,
          "metadata": {},
          "output_type": "execute_result"
        }
      ],
      "source": [
        "\"\"\"\n",
        "number=5\n",
        "subject=\"Data Science And Machine Learning\"\n",
        "tone=\"Medium\"\n",
        "\"\"\""
      ]
    },
    {
      "cell_type": "code",
      "execution_count": 7,
      "metadata": {
        "id": "GD1PhN1o2vkg"
      },
      "outputs": [],
      "source": [
        "TEMPLATE=\"\"\"\n",
        "Text:{text}\n",
        "You are an expert MCQ maker. Given the above text, it is your job to \\\n",
        "create a quiz  of {number} multiple choice questions for {subject} students in {tone} tone.\n",
        "Make sure the questions are not repeated and check all the questions to be conforming the text as well.\n",
        "Make sure to format your response like  RESPONSE_JSON below  and use it as a guide. \\\n",
        "Ensure to make {number} MCQs\n",
        "### RESPONSE_JSON\n",
        "{response_json}\n",
        "\n",
        "\"\"\""
      ]
    },
    {
      "cell_type": "code",
      "execution_count": 8,
      "metadata": {
        "id": "MRUWAX0v2y1G"
      },
      "outputs": [],
      "source": [
        "quiz_generation_prompt = PromptTemplate(\n",
        "    input_variables=[\"text\", \"number\", \"subject\", \"tone\", \"response_json\"],\n",
        "    template=TEMPLATE\n",
        "    )"
      ]
    },
    {
      "cell_type": "code",
      "execution_count": 9,
      "metadata": {
        "colab": {
          "base_uri": "https://localhost:8080/"
        },
        "id": "abUxdolA3Djr",
        "outputId": "4ddb8b0b-725e-42ab-e900-22fc3f99a2b0"
      },
      "outputs": [
        {
          "data": {
            "text/plain": [
              "PromptTemplate(input_variables=['number', 'response_json', 'subject', 'text', 'tone'], template='\\nText:{text}\\nYou are an expert MCQ maker. Given the above text, it is your job to create a quiz  of {number} multiple choice questions for {subject} students in {tone} tone.\\nMake sure the questions are not repeated and check all the questions to be conforming the text as well.\\nMake sure to format your response like  RESPONSE_JSON below  and use it as a guide. Ensure to make {number} MCQs\\n### RESPONSE_JSON\\n{response_json}\\n\\n')"
            ]
          },
          "execution_count": 9,
          "metadata": {},
          "output_type": "execute_result"
        }
      ],
      "source": [
        "quiz_generation_prompt"
      ]
    },
    {
      "cell_type": "code",
      "execution_count": 10,
      "metadata": {
        "colab": {
          "base_uri": "https://localhost:8080/"
        },
        "id": "FutTvTmK3Ggw",
        "outputId": "374c4902-e146-44dc-da2b-3fb868bd5d19"
      },
      "outputs": [
        {
          "name": "stderr",
          "output_type": "stream",
          "text": [
            "c:\\Users\\somva\\Documents\\Work\\Foundational_Generative_AI\\MCQ_GENERATOR_Llama_3.1\\venv\\Lib\\site-packages\\langchain_core\\_api\\deprecation.py:139: LangChainDeprecationWarning: The class `LLMChain` was deprecated in LangChain 0.1.17 and will be removed in 1.0. Use RunnableSequence, e.g., `prompt | llm` instead.\n",
            "  warn_deprecated(\n"
          ]
        }
      ],
      "source": [
        "quiz_chain=LLMChain(llm=groq_chat, prompt=quiz_generation_prompt, output_key=\"quiz\", verbose=True)"
      ]
    },
    {
      "cell_type": "code",
      "execution_count": 14,
      "metadata": {
        "colab": {
          "base_uri": "https://localhost:8080/"
        },
        "id": "y_wgJvly3sJs",
        "outputId": "79a7c480-ba37-4df0-9bed-45b7d0f04e13"
      },
      "outputs": [
        {
          "data": {
            "text/plain": [
              "LLMChain(verbose=True, prompt=PromptTemplate(input_variables=['number', 'response_json', 'subject', 'text', 'tone'], template='\\nText:{text}\\nYou are an expert MCQ maker. Given the above text, it is your job to create a quiz  of {number} multiple choice questions for {subject} students in {tone} tone.\\nMake sure the questions are not repeated and check all the questions to be conforming the text as well.\\nMake sure to format your response like  RESPONSE_JSON below  and use it as a guide. Ensure to make {number} MCQs\\n### RESPONSE_JSON\\n{response_json}\\n\\n'), llm=ChatGroq(client=<groq.resources.chat.completions.Completions object at 0x000001F17BAC0DD0>, async_client=<groq.resources.chat.completions.AsyncCompletions object at 0x000001F1794E04D0>, model_name='llama3-70b-8192', temperature=0.5, groq_api_key=SecretStr('**********')), output_key='quiz')"
            ]
          },
          "execution_count": 14,
          "metadata": {},
          "output_type": "execute_result"
        }
      ],
      "source": [
        "quiz_chain"
      ]
    },
    {
      "cell_type": "code",
      "execution_count": 15,
      "metadata": {
        "id": "Q2tcBXl84e4W"
      },
      "outputs": [],
      "source": [
        "TEMPLATE_1=\"\"\"\n",
        "You are an expert english grammarian and writer. Given a Multiple Choice Quiz for {subject} students.\\\n",
        "You need to evaluate the complexity of the question and give a complete analysis of the quiz. Only use at max 50 words for complexity analysis.\n",
        "if the quiz is not at per with the cognitive and analytical abilities of the students,\\\n",
        "update the quiz questions which needs to be changed and change the tone such that it perfectly fits the student abilities\n",
        "Quiz_MCQs:\n",
        "{quiz}\n",
        "\n",
        "Check from an expert English Writer of the above quiz:\n",
        "\"\"\""
      ]
    },
    {
      "cell_type": "code",
      "execution_count": 16,
      "metadata": {
        "id": "uyQZ-RmT4pvl"
      },
      "outputs": [],
      "source": [
        "quiz_evaluation_prompt=PromptTemplate(input_variables=[\"subject\", \"quiz\"], template=TEMPLATE_1)"
      ]
    },
    {
      "cell_type": "code",
      "execution_count": 17,
      "metadata": {
        "id": "JvvdEy9V4yFN"
      },
      "outputs": [],
      "source": [
        "review_chain=LLMChain(llm=groq_chat, prompt=quiz_evaluation_prompt, output_key=\"review\", verbose=True)"
      ]
    },
    {
      "cell_type": "code",
      "execution_count": 18,
      "metadata": {
        "colab": {
          "base_uri": "https://localhost:8080/"
        },
        "id": "BiJ4E7PZ4-of",
        "outputId": "13ebfcf0-4e40-46d5-e758-fe5c0a5af722"
      },
      "outputs": [
        {
          "data": {
            "text/plain": [
              "LLMChain(verbose=True, prompt=PromptTemplate(input_variables=['quiz', 'subject'], template='\\nYou are an expert english grammarian and writer. Given a Multiple Choice Quiz for {subject} students.You need to evaluate the complexity of the question and give a complete analysis of the quiz. Only use at max 50 words for complexity analysis.\\nif the quiz is not at per with the cognitive and analytical abilities of the students,update the quiz questions which needs to be changed and change the tone such that it perfectly fits the student abilities\\nQuiz_MCQs:\\n{quiz}\\n\\nCheck from an expert English Writer of the above quiz:\\n'), llm=ChatGroq(client=<groq.resources.chat.completions.Completions object at 0x000001F17BAC0DD0>, async_client=<groq.resources.chat.completions.AsyncCompletions object at 0x000001F1794E04D0>, model_name='llama3-70b-8192', temperature=0.5, groq_api_key=SecretStr('**********')), output_key='review')"
            ]
          },
          "execution_count": 18,
          "metadata": {},
          "output_type": "execute_result"
        }
      ],
      "source": [
        "review_chain"
      ]
    },
    {
      "cell_type": "code",
      "execution_count": 19,
      "metadata": {
        "id": "2Y18DHDA453T"
      },
      "outputs": [],
      "source": [
        "generate_evaluate_chain=SequentialChain(chains=[quiz_chain, review_chain], input_variables=[\"text\", \"number\", \"subject\", \"tone\", \"response_json\"],\n",
        "                                        output_variables=[\"quiz\", \"review\"], verbose=True,)"
      ]
    },
    {
      "cell_type": "code",
      "execution_count": null,
      "metadata": {
        "id": "KYykvQDf90en"
      },
      "outputs": [],
      "source": []
    },
    {
      "cell_type": "code",
      "execution_count": 20,
      "metadata": {
        "colab": {
          "base_uri": "https://localhost:8080/"
        },
        "id": "Sfei5Tnu5E7S",
        "outputId": "c30dfdb3-303f-4147-d779-41a6dc7e83a5"
      },
      "outputs": [],
      "source": [
        "path = 'data.txt'"
      ]
    },
    {
      "cell_type": "code",
      "execution_count": 21,
      "metadata": {
        "colab": {
          "base_uri": "https://localhost:8080/"
        },
        "id": "-OJ-8wTa9Dcg",
        "outputId": "c5fb23e2-990c-42c0-f6ea-f5b295164dd7"
      },
      "outputs": [],
      "source": [
        "with open(path, 'r') as file:\n",
        "    TEXT = file.read()"
      ]
    },
    {
      "cell_type": "code",
      "execution_count": 22,
      "metadata": {
        "colab": {
          "base_uri": "https://localhost:8080/",
          "height": 186
        },
        "id": "kfS5zma59dJv",
        "outputId": "d9622ec4-ca9f-4156-bc11-4baffdb1ca01"
      },
      "outputs": [
        {
          "name": "stdout",
          "output_type": "stream",
          "text": [
            "Machine learning (ML) is a subset of artificial intelligence (AI) that focuses on the development of algorithms and statistical models that enable computers to perform tasks without explicit instructions. Instead of being programmed to carry out specific tasks, machine learning systems learn from data, identifying patterns and making decisions based on that data. Here's a detailed breakdown of what machine learning entails:\n",
            "\n",
            "1. Types of Machine Learning\n",
            "a. Supervised Learning:\n",
            "In supervised learning, the algorithm is trained on a labeled dataset, meaning that each training example is paired with an output label. The goal is to learn a mapping from inputs to outputs that can be used to predict labels for new, unseen data. Supervised learning tasks are further divided into:\n",
            "\n",
            "Regression: Predicting continuous values. Examples include predicting house prices or stock market trends.\n",
            "Classification: Predicting discrete labels. Examples include spam detection (spam or not spam) and image recognition (cat, dog, etc.).\n",
            "b. Unsupervised Learning:\n",
            "Unsupervised learning deals with data that has no labels. The goal is to infer the natural structure present within a set of data points. Common tasks include:\n",
            "\n",
            "Clustering: Grouping data points into clusters based on similarity. Examples include customer segmentation and image compression.\n",
            "Association: Discovering rules that describe large portions of the data, such as market basket analysis to identify items that frequently co-occur in transactions.\n",
            "c. Semi-Supervised Learning:\n",
            "This approach lies between supervised and unsupervised learning. It uses a small amount of labeled data and a large amount of unlabeled data. The labeled data guides the learning process, making it more accurate than unsupervised learning and less costly than supervised learning.\n",
            "\n",
            "d. Reinforcement Learning:\n",
            "In reinforcement learning, an agent learns to make decisions by performing actions in an environment to maximize cumulative reward. It involves exploring the environment, exploiting known information, and balancing exploration and exploitation. Applications include game playing (e.g., AlphaGo), robotics, and autonomous driving.\n",
            "\n",
            "2. Core Components of Machine Learning\n",
            "a. Data:\n",
            "Data is the foundation of machine learning. It includes features (input variables) and labels (output variables, in supervised learning). Quality and quantity of data significantly impact the performance of a machine learning model.\n",
            "\n",
            "b. Model:\n",
            "A model is a mathematical representation that maps input data to output predictions. Models are defined by parameters which are learned from the training data.\n",
            "\n",
            "c. Training:\n",
            "Training is the process of feeding data into a machine learning algorithm to learn the parameters of the model. The goal is to minimize the error between the predicted outputs and the true outputs.\n",
            "\n",
            "d. Testing and Validation:\n",
            "After training, the model is evaluated on a separate dataset (testing set) to assess its performance. Validation techniques, such as cross-validation, are used to ensure the model generalizes well to unseen data.\n",
            "\n",
            "3. Machine Learning Algorithms\n",
            "a. Linear Regression:\n",
            "Used for regression tasks, linear regression models the relationship between a dependent variable and one or more independent variables by fitting a linear equation to observed data.\n",
            "\n",
            "b. Logistic Regression:\n",
            "A classification algorithm that predicts the probability of a binary outcome. It models the log-odds of the probability using a linear combination of the input features.\n",
            "\n",
            "c. Decision Trees:\n",
            "A non-parametric algorithm that splits the data into subsets based on feature values, forming a tree-like structure. It's used for both classification and regression tasks.\n",
            "\n",
            "d. Support Vector Machines (SVM):\n",
            "SVM finds the hyperplane that best separates data into classes. It can be used for classification and regression tasks and is particularly effective in high-dimensional spaces.\n",
            "\n",
            "e. Neural Networks:\n",
            "Inspired by the human brain, neural networks consist of layers of interconnected nodes (neurons). Deep learning, a subset of machine learning, involves neural networks with many layers (deep neural networks). They excel in tasks like image and speech recognition.\n",
            "\n",
            "f. Ensemble Methods:\n",
            "These methods combine multiple models to improve performance. Examples include Random Forests (an ensemble of decision trees) and Gradient Boosting Machines.\n",
            "\n",
            "4. Feature Engineering and Selection\n",
            "a. Feature Engineering:\n",
            "Creating new features or transforming existing features to improve model performance. This may involve normalization, scaling, or encoding categorical variables.\n",
            "\n",
            "b. Feature Selection:\n",
            "Identifying the most important features for the model to reduce dimensionality, enhance performance, and prevent overfitting. Techniques include Recursive Feature Elimination and Feature Importance from models like Random Forest.\n",
            "\n",
            "5. Model Evaluation and Metrics\n",
            "Evaluating a model's performance involves using metrics that vary depending on the task:\n",
            "\n",
            "a. Regression Metrics:\n",
            "\n",
            "Mean Absolute Error (MAE)\n",
            "Mean Squared Error (MSE)\n",
            "Root Mean Squared Error (RMSE)\n",
            "R-squared (RÂ²)\n",
            "b. Classification Metrics:\n",
            "\n",
            "Accuracy\n",
            "Precision\n",
            "Recall\n",
            "F1 Score\n",
            "ROC-AUC\n",
            "6. Challenges in Machine Learning\n",
            "a. Overfitting and Underfitting:\n",
            "\n",
            "Overfitting: The model learns the noise in the training data, performing well on training data but poorly on new data.\n",
            "Underfitting: The model is too simple and fails to capture the underlying patterns in the data.\n",
            "b. Data Quality:\n",
            "High-quality, relevant data is crucial. Data may be noisy, incomplete, or imbalanced, requiring preprocessing and augmentation.\n",
            "\n",
            "c. Interpretability:\n",
            "Understanding and explaining model predictions, especially for complex models like deep neural networks, can be challenging but is essential for trust and transparency.\n",
            "\n",
            "7. Applications of Machine Learning\n",
            "Machine learning is used across various domains, including:\n",
            "\n",
            "Healthcare: Predicting disease outbreaks, diagnosing medical conditions, and personalizing treatment plans.\n",
            "Finance: Fraud detection, algorithmic trading, and credit scoring.\n",
            "Retail: Customer segmentation, recommendation systems, and inventory management.\n",
            "Transportation: Autonomous vehicles, route optimization, and predictive maintenance.\n",
            "Natural Language Processing (NLP): Language translation, sentiment analysis, and chatbots.\n",
            "Machine learning is a vast and evolving field with significant implications for technology and society. By harnessing the power of data, machine learning systems can make informed decisions, automate processes, and uncover insights, driving innovation across multiple industries.\n"
          ]
        }
      ],
      "source": [
        "print(TEXT)"
      ]
    },
    {
      "cell_type": "code",
      "execution_count": null,
      "metadata": {
        "id": "sOwrvwIi_nwx"
      },
      "outputs": [],
      "source": []
    },
    {
      "cell_type": "code",
      "execution_count": 23,
      "metadata": {
        "id": "O7PpPZoP_tPn"
      },
      "outputs": [],
      "source": [
        "number=5\n",
        "subject=\"Data Science And Machine Learning\"\n",
        "tone=\"Medium\""
      ]
    },
    {
      "cell_type": "code",
      "execution_count": 24,
      "metadata": {
        "colab": {
          "base_uri": "https://localhost:8080/"
        },
        "id": "eGenWw0i_TbV",
        "outputId": "f89d9489-629a-45f7-86f1-c5406f5306ba"
      },
      "outputs": [
        {
          "name": "stderr",
          "output_type": "stream",
          "text": [
            "c:\\Users\\somva\\Documents\\Work\\Foundational_Generative_AI\\MCQ_GENERATOR_Llama_3.1\\venv\\Lib\\site-packages\\langchain_core\\_api\\deprecation.py:139: LangChainDeprecationWarning: The method `Chain.__call__` was deprecated in langchain 0.1.0 and will be removed in 0.3.0. Use invoke instead.\n",
            "  warn_deprecated(\n"
          ]
        },
        {
          "name": "stdout",
          "output_type": "stream",
          "text": [
            "\n",
            "\n",
            "\u001b[1m> Entering new SequentialChain chain...\u001b[0m\n",
            "\n",
            "\n",
            "\u001b[1m> Entering new LLMChain chain...\u001b[0m\n",
            "Prompt after formatting:\n",
            "\u001b[32;1m\u001b[1;3m\n",
            "Text:Machine learning (ML) is a subset of artificial intelligence (AI) that focuses on the development of algorithms and statistical models that enable computers to perform tasks without explicit instructions. Instead of being programmed to carry out specific tasks, machine learning systems learn from data, identifying patterns and making decisions based on that data. Here's a detailed breakdown of what machine learning entails:\n",
            "\n",
            "1. Types of Machine Learning\n",
            "a. Supervised Learning:\n",
            "In supervised learning, the algorithm is trained on a labeled dataset, meaning that each training example is paired with an output label. The goal is to learn a mapping from inputs to outputs that can be used to predict labels for new, unseen data. Supervised learning tasks are further divided into:\n",
            "\n",
            "Regression: Predicting continuous values. Examples include predicting house prices or stock market trends.\n",
            "Classification: Predicting discrete labels. Examples include spam detection (spam or not spam) and image recognition (cat, dog, etc.).\n",
            "b. Unsupervised Learning:\n",
            "Unsupervised learning deals with data that has no labels. The goal is to infer the natural structure present within a set of data points. Common tasks include:\n",
            "\n",
            "Clustering: Grouping data points into clusters based on similarity. Examples include customer segmentation and image compression.\n",
            "Association: Discovering rules that describe large portions of the data, such as market basket analysis to identify items that frequently co-occur in transactions.\n",
            "c. Semi-Supervised Learning:\n",
            "This approach lies between supervised and unsupervised learning. It uses a small amount of labeled data and a large amount of unlabeled data. The labeled data guides the learning process, making it more accurate than unsupervised learning and less costly than supervised learning.\n",
            "\n",
            "d. Reinforcement Learning:\n",
            "In reinforcement learning, an agent learns to make decisions by performing actions in an environment to maximize cumulative reward. It involves exploring the environment, exploiting known information, and balancing exploration and exploitation. Applications include game playing (e.g., AlphaGo), robotics, and autonomous driving.\n",
            "\n",
            "2. Core Components of Machine Learning\n",
            "a. Data:\n",
            "Data is the foundation of machine learning. It includes features (input variables) and labels (output variables, in supervised learning). Quality and quantity of data significantly impact the performance of a machine learning model.\n",
            "\n",
            "b. Model:\n",
            "A model is a mathematical representation that maps input data to output predictions. Models are defined by parameters which are learned from the training data.\n",
            "\n",
            "c. Training:\n",
            "Training is the process of feeding data into a machine learning algorithm to learn the parameters of the model. The goal is to minimize the error between the predicted outputs and the true outputs.\n",
            "\n",
            "d. Testing and Validation:\n",
            "After training, the model is evaluated on a separate dataset (testing set) to assess its performance. Validation techniques, such as cross-validation, are used to ensure the model generalizes well to unseen data.\n",
            "\n",
            "3. Machine Learning Algorithms\n",
            "a. Linear Regression:\n",
            "Used for regression tasks, linear regression models the relationship between a dependent variable and one or more independent variables by fitting a linear equation to observed data.\n",
            "\n",
            "b. Logistic Regression:\n",
            "A classification algorithm that predicts the probability of a binary outcome. It models the log-odds of the probability using a linear combination of the input features.\n",
            "\n",
            "c. Decision Trees:\n",
            "A non-parametric algorithm that splits the data into subsets based on feature values, forming a tree-like structure. It's used for both classification and regression tasks.\n",
            "\n",
            "d. Support Vector Machines (SVM):\n",
            "SVM finds the hyperplane that best separates data into classes. It can be used for classification and regression tasks and is particularly effective in high-dimensional spaces.\n",
            "\n",
            "e. Neural Networks:\n",
            "Inspired by the human brain, neural networks consist of layers of interconnected nodes (neurons). Deep learning, a subset of machine learning, involves neural networks with many layers (deep neural networks). They excel in tasks like image and speech recognition.\n",
            "\n",
            "f. Ensemble Methods:\n",
            "These methods combine multiple models to improve performance. Examples include Random Forests (an ensemble of decision trees) and Gradient Boosting Machines.\n",
            "\n",
            "4. Feature Engineering and Selection\n",
            "a. Feature Engineering:\n",
            "Creating new features or transforming existing features to improve model performance. This may involve normalization, scaling, or encoding categorical variables.\n",
            "\n",
            "b. Feature Selection:\n",
            "Identifying the most important features for the model to reduce dimensionality, enhance performance, and prevent overfitting. Techniques include Recursive Feature Elimination and Feature Importance from models like Random Forest.\n",
            "\n",
            "5. Model Evaluation and Metrics\n",
            "Evaluating a model's performance involves using metrics that vary depending on the task:\n",
            "\n",
            "a. Regression Metrics:\n",
            "\n",
            "Mean Absolute Error (MAE)\n",
            "Mean Squared Error (MSE)\n",
            "Root Mean Squared Error (RMSE)\n",
            "R-squared (RÂ²)\n",
            "b. Classification Metrics:\n",
            "\n",
            "Accuracy\n",
            "Precision\n",
            "Recall\n",
            "F1 Score\n",
            "ROC-AUC\n",
            "6. Challenges in Machine Learning\n",
            "a. Overfitting and Underfitting:\n",
            "\n",
            "Overfitting: The model learns the noise in the training data, performing well on training data but poorly on new data.\n",
            "Underfitting: The model is too simple and fails to capture the underlying patterns in the data.\n",
            "b. Data Quality:\n",
            "High-quality, relevant data is crucial. Data may be noisy, incomplete, or imbalanced, requiring preprocessing and augmentation.\n",
            "\n",
            "c. Interpretability:\n",
            "Understanding and explaining model predictions, especially for complex models like deep neural networks, can be challenging but is essential for trust and transparency.\n",
            "\n",
            "7. Applications of Machine Learning\n",
            "Machine learning is used across various domains, including:\n",
            "\n",
            "Healthcare: Predicting disease outbreaks, diagnosing medical conditions, and personalizing treatment plans.\n",
            "Finance: Fraud detection, algorithmic trading, and credit scoring.\n",
            "Retail: Customer segmentation, recommendation systems, and inventory management.\n",
            "Transportation: Autonomous vehicles, route optimization, and predictive maintenance.\n",
            "Natural Language Processing (NLP): Language translation, sentiment analysis, and chatbots.\n",
            "Machine learning is a vast and evolving field with significant implications for technology and society. By harnessing the power of data, machine learning systems can make informed decisions, automate processes, and uncover insights, driving innovation across multiple industries.\n",
            "You are an expert MCQ maker. Given the above text, it is your job to create a quiz  of 5 multiple choice questions for Data Science And Machine Learning students in Medium tone.\n",
            "Make sure the questions are not repeated and check all the questions to be conforming the text as well.\n",
            "Make sure to format your response like  RESPONSE_JSON below  and use it as a guide. Ensure to make 5 MCQs\n",
            "### RESPONSE_JSON\n",
            "{\"1\": {\"mcq\": \"multiple choice question\", \"options\": {\"a\": \"choice here\", \"b\": \"choice here\", \"c\": \"choice here\", \"d\": \"choice here\"}, \"correct\": \"correct answer\"}, \"2\": {\"mcq\": \"multiple choice question\", \"options\": {\"a\": \"choice here\", \"b\": \"choice here\", \"c\": \"choice here\", \"d\": \"choice here\"}, \"correct\": \"correct answer\"}, \"3\": {\"mcq\": \"multiple choice question\", \"options\": {\"a\": \"choice here\", \"b\": \"choice here\", \"c\": \"choice here\", \"d\": \"choice here\"}, \"correct\": \"correct answer\"}}\n",
            "\n",
            "\u001b[0m\n",
            "\n",
            "\u001b[1m> Finished chain.\u001b[0m\n",
            "\n",
            "\n",
            "\u001b[1m> Entering new LLMChain chain...\u001b[0m\n",
            "Prompt after formatting:\n",
            "\u001b[32;1m\u001b[1;3m\n",
            "You are an expert english grammarian and writer. Given a Multiple Choice Quiz for Data Science And Machine Learning students.You need to evaluate the complexity of the question and give a complete analysis of the quiz. Only use at max 50 words for complexity analysis.\n",
            "if the quiz is not at per with the cognitive and analytical abilities of the students,update the quiz questions which needs to be changed and change the tone such that it perfectly fits the student abilities\n",
            "Quiz_MCQs:\n",
            "Here are 5 multiple-choice questions based on the provided text:\n",
            "\n",
            "{\"1\": {\"mcq\": \"What is the primary goal of supervised learning in machine learning?\", \"options\": {\"a\": \"To identify patterns in unlabeled data\", \"b\": \"To learn a mapping from inputs to outputs\", \"c\": \"To make decisions by performing actions in an environment\", \"d\": \"To group data points into clusters\"}, \"correct\": \"b\"} ,\n",
            "\n",
            "\"2\": {\"mcq\": \"Which type of machine learning involves an agent learning to make decisions by performing actions in an environment to maximize cumulative reward?\", \"options\": {\"a\": \"Supervised learning\", \"b\": \"Unsupervised learning\", \"c\": \"Semi-supervised learning\", \"d\": \"Reinforcement learning\"}, \"correct\": \"d\"} ,\n",
            "\n",
            "\"3\": {\"mcq\": \"What is the purpose of feature engineering in machine learning?\", \"options\": {\"a\": \"To reduce the dimensionality of the data\", \"b\": \"To create new features or transform existing features to improve model performance\", \"c\": \"To evaluate the performance of a model\", \"d\": \"To select the most important features for the model\"}, \"correct\": \"b\"} ,\n",
            "\n",
            "\"4\": {\"mcq\": \"What is the term for a model that learns the noise in the training data and performs well on the training data but poorly on new data?\", \"options\": {\"a\": \"Overfitting\", \"b\": \"Underfitting\", \"c\": \"Supervised learning\", \"d\": \"Unsupervised learning\"}, \"correct\": \"a\"} ,\n",
            "\n",
            "\"5\": {\"mcq\": \"Which of the following is an application of machine learning in the healthcare industry?\", \"options\": {\"a\": \"Predicting stock market trends\", \"b\": \"Customer segmentation\", \"c\": \"Predicting disease outbreaks\", \"d\": \"Route optimization\"}, \"correct\": \"c\"}\n",
            "\n",
            "Check from an expert English Writer of the above quiz:\n",
            "\u001b[0m\n",
            "\n",
            "\u001b[1m> Finished chain.\u001b[0m\n",
            "\n",
            "\u001b[1m> Finished chain.\u001b[0m\n"
          ]
        }
      ],
      "source": [
        "response=generate_evaluate_chain(\n",
        "        {\n",
        "            \"text\": TEXT,\n",
        "            \"number\": number,\n",
        "            \"subject\":subject,\n",
        "            \"tone\": tone,\n",
        "            \"response_json\": json.dumps(RESPONSE_JSON)\n",
        "        }\n",
        "        )"
      ]
    },
    {
      "cell_type": "code",
      "execution_count": 25,
      "metadata": {
        "colab": {
          "base_uri": "https://localhost:8080/"
        },
        "id": "ecY_YCxN_iOS",
        "outputId": "2889f399-9285-4123-9da1-576d7b8932b0"
      },
      "outputs": [
        {
          "data": {
            "text/plain": [
              "{'text': \"Machine learning (ML) is a subset of artificial intelligence (AI) that focuses on the development of algorithms and statistical models that enable computers to perform tasks without explicit instructions. Instead of being programmed to carry out specific tasks, machine learning systems learn from data, identifying patterns and making decisions based on that data. Here's a detailed breakdown of what machine learning entails:\\n\\n1. Types of Machine Learning\\na. Supervised Learning:\\nIn supervised learning, the algorithm is trained on a labeled dataset, meaning that each training example is paired with an output label. The goal is to learn a mapping from inputs to outputs that can be used to predict labels for new, unseen data. Supervised learning tasks are further divided into:\\n\\nRegression: Predicting continuous values. Examples include predicting house prices or stock market trends.\\nClassification: Predicting discrete labels. Examples include spam detection (spam or not spam) and image recognition (cat, dog, etc.).\\nb. Unsupervised Learning:\\nUnsupervised learning deals with data that has no labels. The goal is to infer the natural structure present within a set of data points. Common tasks include:\\n\\nClustering: Grouping data points into clusters based on similarity. Examples include customer segmentation and image compression.\\nAssociation: Discovering rules that describe large portions of the data, such as market basket analysis to identify items that frequently co-occur in transactions.\\nc. Semi-Supervised Learning:\\nThis approach lies between supervised and unsupervised learning. It uses a small amount of labeled data and a large amount of unlabeled data. The labeled data guides the learning process, making it more accurate than unsupervised learning and less costly than supervised learning.\\n\\nd. Reinforcement Learning:\\nIn reinforcement learning, an agent learns to make decisions by performing actions in an environment to maximize cumulative reward. It involves exploring the environment, exploiting known information, and balancing exploration and exploitation. Applications include game playing (e.g., AlphaGo), robotics, and autonomous driving.\\n\\n2. Core Components of Machine Learning\\na. Data:\\nData is the foundation of machine learning. It includes features (input variables) and labels (output variables, in supervised learning). Quality and quantity of data significantly impact the performance of a machine learning model.\\n\\nb. Model:\\nA model is a mathematical representation that maps input data to output predictions. Models are defined by parameters which are learned from the training data.\\n\\nc. Training:\\nTraining is the process of feeding data into a machine learning algorithm to learn the parameters of the model. The goal is to minimize the error between the predicted outputs and the true outputs.\\n\\nd. Testing and Validation:\\nAfter training, the model is evaluated on a separate dataset (testing set) to assess its performance. Validation techniques, such as cross-validation, are used to ensure the model generalizes well to unseen data.\\n\\n3. Machine Learning Algorithms\\na. Linear Regression:\\nUsed for regression tasks, linear regression models the relationship between a dependent variable and one or more independent variables by fitting a linear equation to observed data.\\n\\nb. Logistic Regression:\\nA classification algorithm that predicts the probability of a binary outcome. It models the log-odds of the probability using a linear combination of the input features.\\n\\nc. Decision Trees:\\nA non-parametric algorithm that splits the data into subsets based on feature values, forming a tree-like structure. It's used for both classification and regression tasks.\\n\\nd. Support Vector Machines (SVM):\\nSVM finds the hyperplane that best separates data into classes. It can be used for classification and regression tasks and is particularly effective in high-dimensional spaces.\\n\\ne. Neural Networks:\\nInspired by the human brain, neural networks consist of layers of interconnected nodes (neurons). Deep learning, a subset of machine learning, involves neural networks with many layers (deep neural networks). They excel in tasks like image and speech recognition.\\n\\nf. Ensemble Methods:\\nThese methods combine multiple models to improve performance. Examples include Random Forests (an ensemble of decision trees) and Gradient Boosting Machines.\\n\\n4. Feature Engineering and Selection\\na. Feature Engineering:\\nCreating new features or transforming existing features to improve model performance. This may involve normalization, scaling, or encoding categorical variables.\\n\\nb. Feature Selection:\\nIdentifying the most important features for the model to reduce dimensionality, enhance performance, and prevent overfitting. Techniques include Recursive Feature Elimination and Feature Importance from models like Random Forest.\\n\\n5. Model Evaluation and Metrics\\nEvaluating a model's performance involves using metrics that vary depending on the task:\\n\\na. Regression Metrics:\\n\\nMean Absolute Error (MAE)\\nMean Squared Error (MSE)\\nRoot Mean Squared Error (RMSE)\\nR-squared (RÂ²)\\nb. Classification Metrics:\\n\\nAccuracy\\nPrecision\\nRecall\\nF1 Score\\nROC-AUC\\n6. Challenges in Machine Learning\\na. Overfitting and Underfitting:\\n\\nOverfitting: The model learns the noise in the training data, performing well on training data but poorly on new data.\\nUnderfitting: The model is too simple and fails to capture the underlying patterns in the data.\\nb. Data Quality:\\nHigh-quality, relevant data is crucial. Data may be noisy, incomplete, or imbalanced, requiring preprocessing and augmentation.\\n\\nc. Interpretability:\\nUnderstanding and explaining model predictions, especially for complex models like deep neural networks, can be challenging but is essential for trust and transparency.\\n\\n7. Applications of Machine Learning\\nMachine learning is used across various domains, including:\\n\\nHealthcare: Predicting disease outbreaks, diagnosing medical conditions, and personalizing treatment plans.\\nFinance: Fraud detection, algorithmic trading, and credit scoring.\\nRetail: Customer segmentation, recommendation systems, and inventory management.\\nTransportation: Autonomous vehicles, route optimization, and predictive maintenance.\\nNatural Language Processing (NLP): Language translation, sentiment analysis, and chatbots.\\nMachine learning is a vast and evolving field with significant implications for technology and society. By harnessing the power of data, machine learning systems can make informed decisions, automate processes, and uncover insights, driving innovation across multiple industries.\",\n",
              " 'number': 5,\n",
              " 'subject': 'Data Science And Machine Learning',\n",
              " 'tone': 'Medium',\n",
              " 'response_json': '{\"1\": {\"mcq\": \"multiple choice question\", \"options\": {\"a\": \"choice here\", \"b\": \"choice here\", \"c\": \"choice here\", \"d\": \"choice here\"}, \"correct\": \"correct answer\"}, \"2\": {\"mcq\": \"multiple choice question\", \"options\": {\"a\": \"choice here\", \"b\": \"choice here\", \"c\": \"choice here\", \"d\": \"choice here\"}, \"correct\": \"correct answer\"}, \"3\": {\"mcq\": \"multiple choice question\", \"options\": {\"a\": \"choice here\", \"b\": \"choice here\", \"c\": \"choice here\", \"d\": \"choice here\"}, \"correct\": \"correct answer\"}}',\n",
              " 'quiz': 'Here are 5 multiple-choice questions based on the provided text:\\n\\n{\"1\": {\"mcq\": \"What is the primary goal of supervised learning in machine learning?\", \"options\": {\"a\": \"To identify patterns in unlabeled data\", \"b\": \"To learn a mapping from inputs to outputs\", \"c\": \"To make decisions by performing actions in an environment\", \"d\": \"To group data points into clusters\"}, \"correct\": \"b\"} ,\\n\\n\"2\": {\"mcq\": \"Which type of machine learning involves an agent learning to make decisions by performing actions in an environment to maximize cumulative reward?\", \"options\": {\"a\": \"Supervised learning\", \"b\": \"Unsupervised learning\", \"c\": \"Semi-supervised learning\", \"d\": \"Reinforcement learning\"}, \"correct\": \"d\"} ,\\n\\n\"3\": {\"mcq\": \"What is the purpose of feature engineering in machine learning?\", \"options\": {\"a\": \"To reduce the dimensionality of the data\", \"b\": \"To create new features or transform existing features to improve model performance\", \"c\": \"To evaluate the performance of a model\", \"d\": \"To select the most important features for the model\"}, \"correct\": \"b\"} ,\\n\\n\"4\": {\"mcq\": \"What is the term for a model that learns the noise in the training data and performs well on the training data but poorly on new data?\", \"options\": {\"a\": \"Overfitting\", \"b\": \"Underfitting\", \"c\": \"Supervised learning\", \"d\": \"Unsupervised learning\"}, \"correct\": \"a\"} ,\\n\\n\"5\": {\"mcq\": \"Which of the following is an application of machine learning in the healthcare industry?\", \"options\": {\"a\": \"Predicting stock market trends\", \"b\": \"Customer segmentation\", \"c\": \"Predicting disease outbreaks\", \"d\": \"Route optimization\"}, \"correct\": \"c\"}',\n",
              " 'review': '**Complexity Analysis:** The quiz questions are clear and concise, but may be too straightforward for advanced Data Science and Machine Learning students. The language is simple, and the options are obvious, making it easy to eliminate incorrect answers. (Score: 6/10)\\n\\n**Analysis and Recommendations:**\\n\\n1. The questions are too factual and lack depth. Consider adding more analytical or scenario-based questions to challenge students.\\n2. The language is simple and lacks nuances. Consider using more technical vocabulary and complex sentence structures to reflect the academic level of the students.\\n3. The options are too obvious, making it easy to eliminate incorrect answers. Consider adding more plausible distractors to test students\\' critical thinking skills.\\n\\n**Recommended Changes:**\\n\\n* Question 1: Instead of asking about the primary goal, ask about a specific application or challenge in supervised learning.\\n* Question 2: Add more context to the question, such as a scenario or a specific problem, to make it more analytical.\\n* Question 3: Ask about the benefits or limitations of feature engineering, rather than its purpose.\\n* Question 4: Provide a scenario or an example of overfitting, and ask students to identify the problem or its consequences.\\n* Question 5: Instead of asking about a general application, ask about a specific technique or model used in the healthcare industry.\\n\\nHere\\'s an updated version of the quiz:\\n\\n**Updated Quiz:**\\n\\n\"1\": {\"mcq\": \"What is a common challenge in supervised learning when dealing with imbalanced datasets?\", \"options\": {\"a\": \"Overfitting\", \"b\": \"Underfitting\", \"c\": \"Class imbalance\", \"d\": \"High variance\"}, \"correct\": \"c\"} ,\\n\\n\"2\": {\"mcq\": \"In a reinforcement learning scenario, an agent is tasked with recommending personalized products to customers. What is the primary goal of the agent?\", \"options\": {\"a\": \"To maximize cumulative reward\", \"b\": \"To minimize latency\", \"c\": \"To reduce computational cost\", \"d\": \"To improve customer satisfaction\"}, \"correct\": \"a\"} ,\\n\\n\"3\": {\"mcq\": \"What is a benefit of feature engineering in machine learning?\", \"options\": {\"a\": \"Reducing model interpretability\", \"b\": \"Improving model performance\", \"c\": \"Increasing data dimensionality\", \"d\": \"Reducing computational cost\"}, \"correct\": \"b\"} ,\\n\\n\"4\": {\"mcq\": \"A model is trained on a dataset and achieves high accuracy on the training data but performs poorly on new data. What is likely the cause of this issue?\", \"options\": {\"a\": \"Underfitting\", \"b\": \"Overfitting\", \"c\": \"High bias\", \"d\": \"Low variance\"}, \"correct\": \"b\"} ,\\n\\n\"5\": {\"mcq\": \"What machine learning technique is commonly used in healthcare to predict patient outcomes based on electronic health records?\", \"options\": {\"a\": \"Clustering\", \"b\": \"Decision Trees\", \"c\": \"Random Forest\", \"d\": \"Gradient Boosting\"}, \"correct\": \"c\"}\\n\\nNote: These updated questions are designed to be more challenging and analytical, while still being clear and concise.'}"
            ]
          },
          "execution_count": 25,
          "metadata": {},
          "output_type": "execute_result"
        }
      ],
      "source": [
        "response"
      ]
    },
    {
      "cell_type": "code",
      "execution_count": null,
      "metadata": {},
      "outputs": [],
      "source": []
    },
    {
      "cell_type": "code",
      "execution_count": 26,
      "metadata": {
        "id": "KyxMuXIPAb8F"
      },
      "outputs": [],
      "source": [
        "quiz = response.get(\"quiz\")"
      ]
    },
    {
      "cell_type": "code",
      "execution_count": 27,
      "metadata": {},
      "outputs": [
        {
          "data": {
            "text/plain": [
              "'Here are 5 multiple-choice questions based on the provided text:\\n\\n{\"1\": {\"mcq\": \"What is the primary goal of supervised learning in machine learning?\", \"options\": {\"a\": \"To identify patterns in unlabeled data\", \"b\": \"To learn a mapping from inputs to outputs\", \"c\": \"To make decisions by performing actions in an environment\", \"d\": \"To group data points into clusters\"}, \"correct\": \"b\"} ,\\n\\n\"2\": {\"mcq\": \"Which type of machine learning involves an agent learning to make decisions by performing actions in an environment to maximize cumulative reward?\", \"options\": {\"a\": \"Supervised learning\", \"b\": \"Unsupervised learning\", \"c\": \"Semi-supervised learning\", \"d\": \"Reinforcement learning\"}, \"correct\": \"d\"} ,\\n\\n\"3\": {\"mcq\": \"What is the purpose of feature engineering in machine learning?\", \"options\": {\"a\": \"To reduce the dimensionality of the data\", \"b\": \"To create new features or transform existing features to improve model performance\", \"c\": \"To evaluate the performance of a model\", \"d\": \"To select the most important features for the model\"}, \"correct\": \"b\"} ,\\n\\n\"4\": {\"mcq\": \"What is the term for a model that learns the noise in the training data and performs well on the training data but poorly on new data?\", \"options\": {\"a\": \"Overfitting\", \"b\": \"Underfitting\", \"c\": \"Supervised learning\", \"d\": \"Unsupervised learning\"}, \"correct\": \"a\"} ,\\n\\n\"5\": {\"mcq\": \"Which of the following is an application of machine learning in the healthcare industry?\", \"options\": {\"a\": \"Predicting stock market trends\", \"b\": \"Customer segmentation\", \"c\": \"Predicting disease outbreaks\", \"d\": \"Route optimization\"}, \"correct\": \"c\"}'"
            ]
          },
          "execution_count": 27,
          "metadata": {},
          "output_type": "execute_result"
        }
      ],
      "source": [
        "quiz"
      ]
    },
    {
      "cell_type": "code",
      "execution_count": 28,
      "metadata": {},
      "outputs": [
        {
          "name": "stdout",
          "output_type": "stream",
          "text": [
            "Here are 5 multiple-choice questions based on the provided text:\n",
            "\n",
            "{\"1\": {\"mcq\": \"What is the primary goal of supervised learning in machine learning?\", \"options\": {\"a\": \"To identify patterns in unlabeled data\", \"b\": \"To learn a mapping from inputs to outputs\", \"c\": \"To make decisions by performing actions in an environment\", \"d\": \"To group data points into clusters\"}, \"correct\": \"b\"} ,\n",
            "\n",
            "\"2\": {\"mcq\": \"Which type of machine learning involves an agent learning to make decisions by performing actions in an environment to maximize cumulative reward?\", \"options\": {\"a\": \"Supervised learning\", \"b\": \"Unsupervised learning\", \"c\": \"Semi-supervised learning\", \"d\": \"Reinforcement learning\"}, \"correct\": \"d\"} ,\n",
            "\n",
            "\"3\": {\"mcq\": \"What is the purpose of feature engineering in machine learning?\", \"options\": {\"a\": \"To reduce the dimensionality of the data\", \"b\": \"To create new features or transform existing features to improve model performance\", \"c\": \"To evaluate the performance of a model\", \"d\": \"To select the most important features for the model\"}, \"correct\": \"b\"} ,\n",
            "\n",
            "\"4\": {\"mcq\": \"What is the term for a model that learns the noise in the training data and performs well on the training data but poorly on new data?\", \"options\": {\"a\": \"Overfitting\", \"b\": \"Underfitting\", \"c\": \"Supervised learning\", \"d\": \"Unsupervised learning\"}, \"correct\": \"a\"} ,\n",
            "\n",
            "\"5\": {\"mcq\": \"Which of the following is an application of machine learning in the healthcare industry?\", \"options\": {\"a\": \"Predicting stock market trends\", \"b\": \"Customer segmentation\", \"c\": \"Predicting disease outbreaks\", \"d\": \"Route optimization\"}, \"correct\": \"c\"}\n"
          ]
        }
      ],
      "source": [
        "print(quiz)"
      ]
    },
    {
      "cell_type": "code",
      "execution_count": 29,
      "metadata": {
        "colab": {
          "base_uri": "https://localhost:8080/"
        },
        "id": "ukmaLup3A24L",
        "outputId": "ee170de8-9447-4982-f4ae-4bb834c1c1a0"
      },
      "outputs": [
        {
          "data": {
            "text/plain": [
              "str"
            ]
          },
          "execution_count": 29,
          "metadata": {},
          "output_type": "execute_result"
        }
      ],
      "source": [
        "type(quiz)"
      ]
    },
    {
      "cell_type": "code",
      "execution_count": 39,
      "metadata": {},
      "outputs": [],
      "source": [
        "def extract_mcqs(input_string):\n",
        "    # Remove the introductory text and get the JSON part\n",
        "    json_string = input_string.split('\\n\\n', 1)[1]\n",
        "    \n",
        "    # Initialize an empty dictionary to store the MCQs\n",
        "    mcqs = {}\n",
        "    \n",
        "    # Split the string into individual MCQ blocks\n",
        "    mcq_blocks = json_string.split('} ,\\n\\n')\n",
        "    \n",
        "    for block in mcq_blocks:\n",
        "        # Extract the question number\n",
        "        question_num = block.split(':')[0].strip('\"{')\n",
        "        \n",
        "        # Extract the MCQ question\n",
        "        mcq_start = block.find('\"mcq\": \"') + 8\n",
        "        mcq_end = block.find('\", \"options\"')\n",
        "        mcq_question = block[mcq_start:mcq_end]\n",
        "        \n",
        "        # Extract the options\n",
        "        options_start = block.find('\"options\": {') + 11\n",
        "        options_end = block.rfind('}, \"correct\"')\n",
        "        options_string = block[options_start:options_end]\n",
        "        \n",
        "        options = {}\n",
        "        option_pairs = options_string.split('\", \"')\n",
        "        for pair in option_pairs:\n",
        "            if '\": \"' in pair:\n",
        "                key, value = pair.split('\": \"', 1)\n",
        "                key = key.strip('\"{}').strip()\n",
        "                value = value.strip('\"')\n",
        "                options[key] = value\n",
        "        \n",
        "        # Extract the correct answer\n",
        "        correct_start = block.rfind('\"correct\": \"') + 12\n",
        "        correct_end = block.rfind('\"')\n",
        "        correct_answer = block[correct_start:correct_end]\n",
        "        \n",
        "        # Store the extracted information in the dictionary\n",
        "        mcqs[question_num] = {\n",
        "            'question': mcq_question,\n",
        "            'options': options,\n",
        "            'correct_answer': correct_answer\n",
        "        }\n",
        "    \n",
        "    return mcqs"
      ]
    },
    {
      "cell_type": "code",
      "execution_count": 40,
      "metadata": {},
      "outputs": [],
      "source": [
        "\n",
        "extracted_mcqs = extract_mcqs(quiz)\n"
      ]
    },
    {
      "cell_type": "code",
      "execution_count": 41,
      "metadata": {},
      "outputs": [
        {
          "name": "stdout",
          "output_type": "stream",
          "text": [
            "Question 1:\n",
            "  Question: What is the primary goal of supervised learning in machine learning?\n",
            "  Options:\n",
            "    a: To identify patterns in unlabeled data\n",
            "    b: To learn a mapping from inputs to outputs\n",
            "    c: To make decisions by performing actions in an environment\n",
            "    d: To group data points into clusters\n",
            "  Correct Answer: b\n",
            "\n",
            "Question 2:\n",
            "  Question: Which type of machine learning involves an agent learning to make decisions by performing actions in an environment to maximize cumulative reward?\n",
            "  Options:\n",
            "    a: Supervised learning\n",
            "    b: Unsupervised learning\n",
            "    c: Semi-supervised learning\n",
            "    d: Reinforcement learning\n",
            "  Correct Answer: d\n",
            "\n",
            "Question 3:\n",
            "  Question: What is the purpose of feature engineering in machine learning?\n",
            "  Options:\n",
            "    a: To reduce the dimensionality of the data\n",
            "    b: To create new features or transform existing features to improve model performance\n",
            "    c: To evaluate the performance of a model\n",
            "    d: To select the most important features for the model\n",
            "  Correct Answer: b\n",
            "\n",
            "Question 4:\n",
            "  Question: What is the term for a model that learns the noise in the training data and performs well on the training data but poorly on new data?\n",
            "  Options:\n",
            "    a: Overfitting\n",
            "    b: Underfitting\n",
            "    c: Supervised learning\n",
            "    d: Unsupervised learning\n",
            "  Correct Answer: a\n",
            "\n",
            "Question 5:\n",
            "  Question: Which of the following is an application of machine learning in the healthcare industry?\n",
            "  Options:\n",
            "    a: Predicting stock market trends\n",
            "    b: Customer segmentation\n",
            "    c: Predicting disease outbreaks\n",
            "    d: Route optimization\n",
            "  Correct Answer: c\n",
            "\n"
          ]
        }
      ],
      "source": [
        "\n",
        "# Print the extracted MCQs\n",
        "for num, mcq in extracted_mcqs.items():\n",
        "    print(f\"Question {num}:\")\n",
        "    print(f\"  Question: {mcq['question']}\")\n",
        "    print(\"  Options:\")\n",
        "    for key, value in mcq['options'].items():\n",
        "        print(f\"    {key}: {value}\")\n",
        "    print(f\"  Correct Answer: {mcq['correct_answer']}\")\n",
        "    print()\n",
        "\n"
      ]
    },
    {
      "cell_type": "code",
      "execution_count": 45,
      "metadata": {},
      "outputs": [
        {
          "data": {
            "text/plain": [
              "{'1': {'question': 'What is the primary goal of supervised learning in machine learning?',\n",
              "  'options': {'a': 'To identify patterns in unlabeled data',\n",
              "   'b': 'To learn a mapping from inputs to outputs',\n",
              "   'c': 'To make decisions by performing actions in an environment',\n",
              "   'd': 'To group data points into clusters'},\n",
              "  'correct_answer': 'b'},\n",
              " '2': {'question': 'Which type of machine learning involves an agent learning to make decisions by performing actions in an environment to maximize cumulative reward?',\n",
              "  'options': {'a': 'Supervised learning',\n",
              "   'b': 'Unsupervised learning',\n",
              "   'c': 'Semi-supervised learning',\n",
              "   'd': 'Reinforcement learning'},\n",
              "  'correct_answer': 'd'},\n",
              " '3': {'question': 'What is the purpose of feature engineering in machine learning?',\n",
              "  'options': {'a': 'To reduce the dimensionality of the data',\n",
              "   'b': 'To create new features or transform existing features to improve model performance',\n",
              "   'c': 'To evaluate the performance of a model',\n",
              "   'd': 'To select the most important features for the model'},\n",
              "  'correct_answer': 'b'},\n",
              " '4': {'question': 'What is the term for a model that learns the noise in the training data and performs well on the training data but poorly on new data?',\n",
              "  'options': {'a': 'Overfitting',\n",
              "   'b': 'Underfitting',\n",
              "   'c': 'Supervised learning',\n",
              "   'd': 'Unsupervised learning'},\n",
              "  'correct_answer': 'a'},\n",
              " '5': {'question': 'Which of the following is an application of machine learning in the healthcare industry?',\n",
              "  'options': {'a': 'Predicting stock market trends',\n",
              "   'b': 'Customer segmentation',\n",
              "   'c': 'Predicting disease outbreaks',\n",
              "   'd': 'Route optimization'},\n",
              "  'correct_answer': 'c'}}"
            ]
          },
          "execution_count": 45,
          "metadata": {},
          "output_type": "execute_result"
        }
      ],
      "source": [
        "extracted_mcqs"
      ]
    },
    {
      "cell_type": "code",
      "execution_count": 46,
      "metadata": {},
      "outputs": [],
      "source": [
        "# Convert to DataFrame\n",
        "\n",
        "def create_mcq_dataframe(mcqs):\n",
        "    flattened_data = []\n",
        "    for num, mcq in mcqs.items():\n",
        "        row = {\n",
        "            'question_number': num,\n",
        "            'question': mcq['question'],\n",
        "            'correct_answer': mcq['correct_answer']\n",
        "        }\n",
        "        for option, text in mcq['options'].items():\n",
        "            row[f'option_{option}'] = text\n",
        "        flattened_data.append(row)\n",
        "    \n",
        "    return pd.DataFrame(flattened_data)\n",
        "\n"
      ]
    },
    {
      "cell_type": "code",
      "execution_count": 47,
      "metadata": {},
      "outputs": [],
      "source": [
        "# Create and print the DataFrame\n",
        "df = create_mcq_dataframe(extracted_mcqs)\n"
      ]
    },
    {
      "cell_type": "code",
      "execution_count": 48,
      "metadata": {},
      "outputs": [
        {
          "data": {
            "text/html": [
              "<div>\n",
              "<style scoped>\n",
              "    .dataframe tbody tr th:only-of-type {\n",
              "        vertical-align: middle;\n",
              "    }\n",
              "\n",
              "    .dataframe tbody tr th {\n",
              "        vertical-align: top;\n",
              "    }\n",
              "\n",
              "    .dataframe thead th {\n",
              "        text-align: right;\n",
              "    }\n",
              "</style>\n",
              "<table border=\"1\" class=\"dataframe\">\n",
              "  <thead>\n",
              "    <tr style=\"text-align: right;\">\n",
              "      <th></th>\n",
              "      <th>question_number</th>\n",
              "      <th>question</th>\n",
              "      <th>correct_answer</th>\n",
              "      <th>option_a</th>\n",
              "      <th>option_b</th>\n",
              "      <th>option_c</th>\n",
              "      <th>option_d</th>\n",
              "    </tr>\n",
              "  </thead>\n",
              "  <tbody>\n",
              "    <tr>\n",
              "      <th>0</th>\n",
              "      <td>1</td>\n",
              "      <td>What is the primary goal of supervised learnin...</td>\n",
              "      <td>b</td>\n",
              "      <td>To identify patterns in unlabeled data</td>\n",
              "      <td>To learn a mapping from inputs to outputs</td>\n",
              "      <td>To make decisions by performing actions in an ...</td>\n",
              "      <td>To group data points into clusters</td>\n",
              "    </tr>\n",
              "    <tr>\n",
              "      <th>1</th>\n",
              "      <td>2</td>\n",
              "      <td>Which type of machine learning involves an age...</td>\n",
              "      <td>d</td>\n",
              "      <td>Supervised learning</td>\n",
              "      <td>Unsupervised learning</td>\n",
              "      <td>Semi-supervised learning</td>\n",
              "      <td>Reinforcement learning</td>\n",
              "    </tr>\n",
              "    <tr>\n",
              "      <th>2</th>\n",
              "      <td>3</td>\n",
              "      <td>What is the purpose of feature engineering in ...</td>\n",
              "      <td>b</td>\n",
              "      <td>To reduce the dimensionality of the data</td>\n",
              "      <td>To create new features or transform existing f...</td>\n",
              "      <td>To evaluate the performance of a model</td>\n",
              "      <td>To select the most important features for the ...</td>\n",
              "    </tr>\n",
              "    <tr>\n",
              "      <th>3</th>\n",
              "      <td>4</td>\n",
              "      <td>What is the term for a model that learns the n...</td>\n",
              "      <td>a</td>\n",
              "      <td>Overfitting</td>\n",
              "      <td>Underfitting</td>\n",
              "      <td>Supervised learning</td>\n",
              "      <td>Unsupervised learning</td>\n",
              "    </tr>\n",
              "    <tr>\n",
              "      <th>4</th>\n",
              "      <td>5</td>\n",
              "      <td>Which of the following is an application of ma...</td>\n",
              "      <td>c</td>\n",
              "      <td>Predicting stock market trends</td>\n",
              "      <td>Customer segmentation</td>\n",
              "      <td>Predicting disease outbreaks</td>\n",
              "      <td>Route optimization</td>\n",
              "    </tr>\n",
              "  </tbody>\n",
              "</table>\n",
              "</div>"
            ],
            "text/plain": [
              "  question_number                                           question  \\\n",
              "0               1  What is the primary goal of supervised learnin...   \n",
              "1               2  Which type of machine learning involves an age...   \n",
              "2               3  What is the purpose of feature engineering in ...   \n",
              "3               4  What is the term for a model that learns the n...   \n",
              "4               5  Which of the following is an application of ma...   \n",
              "\n",
              "  correct_answer                                  option_a  \\\n",
              "0              b    To identify patterns in unlabeled data   \n",
              "1              d                       Supervised learning   \n",
              "2              b  To reduce the dimensionality of the data   \n",
              "3              a                               Overfitting   \n",
              "4              c            Predicting stock market trends   \n",
              "\n",
              "                                            option_b  \\\n",
              "0          To learn a mapping from inputs to outputs   \n",
              "1                              Unsupervised learning   \n",
              "2  To create new features or transform existing f...   \n",
              "3                                       Underfitting   \n",
              "4                              Customer segmentation   \n",
              "\n",
              "                                            option_c  \\\n",
              "0  To make decisions by performing actions in an ...   \n",
              "1                           Semi-supervised learning   \n",
              "2             To evaluate the performance of a model   \n",
              "3                                Supervised learning   \n",
              "4                       Predicting disease outbreaks   \n",
              "\n",
              "                                            option_d  \n",
              "0                 To group data points into clusters  \n",
              "1                             Reinforcement learning  \n",
              "2  To select the most important features for the ...  \n",
              "3                              Unsupervised learning  \n",
              "4                                 Route optimization  "
            ]
          },
          "execution_count": 48,
          "metadata": {},
          "output_type": "execute_result"
        }
      ],
      "source": [
        "df"
      ]
    },
    {
      "cell_type": "code",
      "execution_count": 49,
      "metadata": {},
      "outputs": [
        {
          "name": "stdout",
          "output_type": "stream",
          "text": [
            "\n",
            "Options for the first question:\n",
            "option_a               To identify patterns in unlabeled data\n",
            "option_b            To learn a mapping from inputs to outputs\n",
            "option_c    To make decisions by performing actions in an ...\n",
            "option_d                   To group data points into clusters\n",
            "Name: 0, dtype: object\n"
          ]
        }
      ],
      "source": [
        "# Print options for the first question\n",
        "print(\"\\nOptions for the first question:\")\n",
        "print(df.loc[0, ['option_a', 'option_b', 'option_c', 'option_d']])"
      ]
    },
    {
      "cell_type": "code",
      "execution_count": null,
      "metadata": {
        "id": "v0N9ljV8QR-j"
      },
      "outputs": [],
      "source": []
    }
  ],
  "metadata": {
    "colab": {
      "provenance": []
    },
    "kernelspec": {
      "display_name": "Python 3",
      "name": "python3"
    },
    "language_info": {
      "codemirror_mode": {
        "name": "ipython",
        "version": 3
      },
      "file_extension": ".py",
      "mimetype": "text/x-python",
      "name": "python",
      "nbconvert_exporter": "python",
      "pygments_lexer": "ipython3",
      "version": "3.11.5"
    }
  },
  "nbformat": 4,
  "nbformat_minor": 0
}
